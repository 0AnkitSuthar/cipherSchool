{
 "cells": [
  {
   "cell_type": "markdown",
   "metadata": {},
   "source": [
    "## Que:1. Write a program to get a user input in the form of a list data type. Return a list by removing all the duplicates."
   ]
  },
  {
   "cell_type": "code",
   "execution_count": 1,
   "metadata": {},
   "outputs": [],
   "source": [
    "# Method : 1."
   ]
  },
  {
   "cell_type": "code",
   "execution_count": 2,
   "metadata": {},
   "outputs": [
    {
     "name": "stdout",
     "output_type": "stream",
     "text": [
      "Enter the numbers :4 4 5 6 8 5 4\n",
      "4 4 5 6 8 5 4\n"
     ]
    }
   ],
   "source": [
    "Input = input(\"Enter the numbers :\") # Input & input are differ( reason: pyhton is case sensitive.)\n",
    "print(Input)"
   ]
  },
  {
   "cell_type": "code",
   "execution_count": 3,
   "metadata": {},
   "outputs": [
    {
     "name": "stdout",
     "output_type": "stream",
     "text": [
      "['4', '4', '5', '6', '8', '5', '4']\n"
     ]
    }
   ],
   "source": [
    "User_list = Input.split() \n",
    "print(User_list)"
   ]
  },
  {
   "cell_type": "code",
   "execution_count": 4,
   "metadata": {},
   "outputs": [
    {
     "name": "stdout",
     "output_type": "stream",
     "text": [
      "[4, 4, 5, 6, 8, 5, 4]\n"
     ]
    }
   ],
   "source": [
    "User_list= int(User_list[0]),int(User_list[1]),int(User_list[2]),int(User_list[3]),int(User_list[4]),int(User_list[5]),int(User_list[6])\n",
    "User_list = list(User_list)\n",
    "print(User_list)"
   ]
  },
  {
   "cell_type": "code",
   "execution_count": 5,
   "metadata": {},
   "outputs": [
    {
     "name": "stdout",
     "output_type": "stream",
     "text": [
      "<class 'list'>\n"
     ]
    }
   ],
   "source": [
    "print(type(User_list))"
   ]
  },
  {
   "cell_type": "code",
   "execution_count": 6,
   "metadata": {},
   "outputs": [
    {
     "name": "stdout",
     "output_type": "stream",
     "text": [
      "[4, 5, 6, 8]\n"
     ]
    }
   ],
   "source": [
    "User_list = list(dict.fromkeys(User_list)) \n",
    "print(User_list)"
   ]
  },
  {
   "cell_type": "code",
   "execution_count": 7,
   "metadata": {},
   "outputs": [],
   "source": [
    "# Method : 2."
   ]
  },
  {
   "cell_type": "code",
   "execution_count": 8,
   "metadata": {},
   "outputs": [
    {
     "name": "stdout",
     "output_type": "stream",
     "text": [
      "4\n",
      "4\n",
      "5\n",
      "6\n",
      "8\n",
      "5\n",
      "4\n",
      "('4', '4', '5', '6', '8', '5', '4')\n"
     ]
    }
   ],
   "source": [
    "Num = input(),input(),input(),input(),input(),input(),input()\n",
    "print(Num)"
   ]
  },
  {
   "cell_type": "code",
   "execution_count": 9,
   "metadata": {},
   "outputs": [
    {
     "name": "stdout",
     "output_type": "stream",
     "text": [
      "(4, 4, 5, 6, 8, 5, 4)\n"
     ]
    }
   ],
   "source": [
    "New= int(Num[0]),int(Num[1]),int(Num[2]),int(Num[3]),int(Num[4]),int(Num[5]),int(Num[6])\n",
    "print(New)"
   ]
  },
  {
   "cell_type": "code",
   "execution_count": 10,
   "metadata": {},
   "outputs": [
    {
     "name": "stdout",
     "output_type": "stream",
     "text": [
      "[4, 4, 5, 6, 8, 5, 4]\n"
     ]
    }
   ],
   "source": [
    "New = list(New)\n",
    "print(New)"
   ]
  },
  {
   "cell_type": "code",
   "execution_count": 11,
   "metadata": {},
   "outputs": [
    {
     "name": "stdout",
     "output_type": "stream",
     "text": [
      "[4, 5, 6, 8]\n"
     ]
    }
   ],
   "source": [
    "New = list(dict.fromkeys(New))\n",
    "print(New)"
   ]
  },
  {
   "cell_type": "code",
   "execution_count": 12,
   "metadata": {},
   "outputs": [],
   "source": [
    "#Method : 3. by loop"
   ]
  },
  {
   "cell_type": "code",
   "execution_count": 13,
   "metadata": {},
   "outputs": [
    {
     "name": "stdout",
     "output_type": "stream",
     "text": [
      "Enter the list size : 7\n"
     ]
    }
   ],
   "source": [
    "Num_List = []\n",
    "n = int(input(\"Enter the list size : \"))"
   ]
  },
  {
   "cell_type": "code",
   "execution_count": 14,
   "metadata": {},
   "outputs": [
    {
     "name": "stdout",
     "output_type": "stream",
     "text": [
      "Enter number at location 0 :\n",
      "4\n",
      "Enter number at location 1 :\n",
      "4\n",
      "Enter number at location 2 :\n",
      "5\n",
      "Enter number at location 3 :\n",
      "6\n",
      "Enter number at location 4 :\n",
      "8\n",
      "Enter number at location 5 :\n",
      "5\n",
      "Enter number at location 6 :\n",
      "4\n",
      "User List is :  [4, 4, 5, 6, 8, 5, 4]\n"
     ]
    }
   ],
   "source": [
    "for i in range(0, n):\n",
    "    print(\"Enter number at location\", i, \":\")\n",
    "    elements = int(input())\n",
    "    Num_List.append(elements)\n",
    "print(\"User List is : \", Num_List)"
   ]
  },
  {
   "cell_type": "code",
   "execution_count": 15,
   "metadata": {},
   "outputs": [
    {
     "name": "stdout",
     "output_type": "stream",
     "text": [
      "[4, 5, 6, 8]\n"
     ]
    }
   ],
   "source": [
    "Num_List = list(dict.fromkeys(Num_List))\n",
    "print(Num_List)"
   ]
  },
  {
   "cell_type": "markdown",
   "metadata": {},
   "source": [
    "## Que:2. Write a program to get user input in the form of tuple with 'int' data type and perform the following operations:\n",
    "\n",
    "   ###    a. length of tuple.\n",
    "   ###    b. sum of all the elements.\n",
    "   ###    c. largest & smallest elements."
   ]
  },
  {
   "cell_type": "code",
   "execution_count": 16,
   "metadata": {},
   "outputs": [
    {
     "name": "stdout",
     "output_type": "stream",
     "text": [
      "2\n",
      "32\n",
      "4\n",
      "12\n",
      "54\n",
      "<class 'tuple'> \n",
      " <class 'int'>\n",
      "(2, 32, 4, 12, 54)\n"
     ]
    }
   ],
   "source": [
    "# five elements,(integer type) tuple \n",
    "t = int(input()),int(input()),int(input()),int(input()),int(input())\n",
    "print(type(t),\"\\n\",type(t[1]))\n",
    "print(t)"
   ]
  },
  {
   "cell_type": "code",
   "execution_count": 17,
   "metadata": {},
   "outputs": [
    {
     "name": "stdout",
     "output_type": "stream",
     "text": [
      "Length of tuple is : 5\n"
     ]
    }
   ],
   "source": [
    "# a. length of tuple.\n",
    "print(\"Length of tuple is :\", len(t))"
   ]
  },
  {
   "cell_type": "code",
   "execution_count": 18,
   "metadata": {},
   "outputs": [
    {
     "name": "stdout",
     "output_type": "stream",
     "text": [
      "Sum of tuple is : 104\n"
     ]
    }
   ],
   "source": [
    "# b. sum of all the elements.\n",
    "print(\"Sum of tuple is :\", sum(t))"
   ]
  },
  {
   "cell_type": "code",
   "execution_count": 19,
   "metadata": {},
   "outputs": [
    {
     "name": "stdout",
     "output_type": "stream",
     "text": [
      "Largest number in the tuple is : 54\n",
      "Smallest number in the tuple is : 2\n"
     ]
    }
   ],
   "source": [
    "# c. largest & smallest elements.\n",
    "print(\"Largest number in the tuple is :\", max(t))\n",
    "print(\"Smallest number in the tuple is :\", min(t))"
   ]
  },
  {
   "cell_type": "markdown",
   "metadata": {},
   "source": [
    "## Que:3. Given a number and ith bit, change the ith bit of that number to 1."
   ]
  },
  {
   "cell_type": "code",
   "execution_count": 20,
   "metadata": {},
   "outputs": [
    {
     "name": "stdout",
     "output_type": "stream",
     "text": [
      "Enter the num : 13\n",
      "Enter the i : 1\n",
      "ith bit number =  15\n"
     ]
    }
   ],
   "source": [
    "# for input num = 13 & i = 1\n",
    "def ith_Bit(num,i): \n",
    "    return ((1 << i) | num) \n",
    "num = int(input(\"Enter the num : \"))\n",
    "i = int(input(\"Enter the i : \"))\n",
    "  \n",
    "print(\"ith bit number = \", ith_Bit(num, i)) "
   ]
  },
  {
   "cell_type": "markdown",
   "metadata": {},
   "source": [
    "## Que:4. Given a number, print 1 if the number is odd otherwise print 0."
   ]
  },
  {
   "cell_type": "code",
   "execution_count": 21,
   "metadata": {},
   "outputs": [
    {
     "name": "stdout",
     "output_type": "stream",
     "text": [
      "Enter the number : 25\n",
      "25\n"
     ]
    }
   ],
   "source": [
    "# without using \" If-else _ statement \"\n",
    "num = int(input(\"Enter the number : \"))                          # for odd number input\n",
    "print(num)"
   ]
  },
  {
   "cell_type": "code",
   "execution_count": 22,
   "metadata": {},
   "outputs": [
    {
     "name": "stdout",
     "output_type": "stream",
     "text": [
      "For Odd Number o/p is 1 otherwise  0 : \n",
      " 1\n"
     ]
    }
   ],
   "source": [
    "output = print(\"For Odd Number o/p is 1 otherwise  0 :\",\"\\n\",num%2)"
   ]
  },
  {
   "cell_type": "code",
   "execution_count": 23,
   "metadata": {},
   "outputs": [
    {
     "name": "stdout",
     "output_type": "stream",
     "text": [
      "Enter the number : 12\n",
      "12\n"
     ]
    }
   ],
   "source": [
    "num = int(input(\"Enter the number : \"))                         # for even number input\n",
    "print(num)"
   ]
  },
  {
   "cell_type": "code",
   "execution_count": 24,
   "metadata": {},
   "outputs": [
    {
     "name": "stdout",
     "output_type": "stream",
     "text": [
      "For Odd Number o/p is 1 otherwise  0 : \n",
      " 0\n"
     ]
    }
   ],
   "source": [
    "output = print(\"For Odd Number o/p is 1 otherwise  0 :\",\"\\n\",num%2)"
   ]
  },
  {
   "cell_type": "markdown",
   "metadata": {},
   "source": [
    "## Que:5. Given two lists of interers A and b. Write a program to merge them into a single sorted list that contains every item from list A and B in ascending order."
   ]
  },
  {
   "cell_type": "code",
   "execution_count": 25,
   "metadata": {},
   "outputs": [
    {
     "name": "stdout",
     "output_type": "stream",
     "text": [
      " A :  [1, 4, 3, 7, 12, 2, 54] \n",
      " B :  [6, 5, 13, 9, 11, 17, 8]\n"
     ]
    }
   ],
   "source": [
    "# First list is :\n",
    "A = [1,4,3,7,12,2,54]\n",
    "\n",
    "# Second list is :\n",
    "B = [6,5,13,9,11,17,8]\n",
    "print(\" A : \",A,\"\\n\",\"B : \",B)"
   ]
  },
  {
   "cell_type": "code",
   "execution_count": 26,
   "metadata": {},
   "outputs": [
    {
     "name": "stdout",
     "output_type": "stream",
     "text": [
      "Before sorting list is : [1, 4, 3, 7, 12, 2, 54, 6, 5, 13, 9, 11, 17, 8]\n",
      "After sorting list is :  [1, 2, 3, 4, 5, 6, 7, 8, 9, 11, 12, 13, 17, 54]\n"
     ]
    }
   ],
   "source": [
    "C = A + B\n",
    "print(\"Before sorting list is :\",C)\n",
    "# Sorting  of list :\n",
    "C.sort()\n",
    "print(\"After sorting list is : \", C)"
   ]
  },
  {
   "cell_type": "markdown",
   "metadata": {},
   "source": [
    "## Que:6.Create a user defined dictionary to store names and marks of 5 students. Sort the dictionary according to marks and return this sorted dictionary to the user."
   ]
  },
  {
   "cell_type": "code",
   "execution_count": null,
   "metadata": {},
   "outputs": [],
   "source": [
    "# Given dictionary :\n",
    "Student = {'Berlin':70,'Oslo':0,'Moscow':50,'Nairobi':100}"
   ]
  }
 ],
 "metadata": {
  "kernelspec": {
   "display_name": "Python 3",
   "language": "python",
   "name": "python3"
  },
  "language_info": {
   "codemirror_mode": {
    "name": "ipython",
    "version": 3
   },
   "file_extension": ".py",
   "mimetype": "text/x-python",
   "name": "python",
   "nbconvert_exporter": "python",
   "pygments_lexer": "ipython3",
   "version": "3.7.3"
  }
 },
 "nbformat": 4,
 "nbformat_minor": 2
}
